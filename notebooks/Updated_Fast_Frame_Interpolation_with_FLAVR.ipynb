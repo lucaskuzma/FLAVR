{
  "nbformat": 4,
  "nbformat_minor": 0,
  "metadata": {
    "colab": {
      "provenance": [],
      "machine_shape": "hm"
    },
    "kernelspec": {
      "name": "python3",
      "display_name": "Python 3"
    },
    "language_info": {
      "name": "python"
    },
    "accelerator": "GPU",
    "gpuClass": "premium"
  },
  "cells": [
    {
      "cell_type": "markdown",
      "source": [
        "Clone the forked GitHub repository."
      ],
      "metadata": {
        "id": "L25AZqD1aqYy"
      }
    },
    {
      "cell_type": "code",
      "execution_count": null,
      "metadata": {
        "id": "5geYqIv5ah8_"
      },
      "outputs": [],
      "source": [
        "# !git clone https://github.com/tarun005/FLAVR.git\n",
        "!git clone https://github.com/lucaskuzma/FLAVR.git\n",
        "%cd FLAVR"
      ]
    },
    {
      "cell_type": "markdown",
      "source": [
        "Install the missing requirements. Almost all the required Python packages for the code in this notebook are available by default in a Colab runtime. Only *PyAV*, a Pythonic binding for the FFmpeg libraries, to be installed really."
      ],
      "metadata": {
        "id": "VZ69AA375uby"
      }
    },
    {
      "cell_type": "code",
      "source": [
        "# perhaps optional\n",
        "!pip install av"
      ],
      "metadata": {
        "id": "L1Bd6U5H5x8X"
      },
      "execution_count": null,
      "outputs": []
    },
    {
      "cell_type": "markdown",
      "source": [
        "Download a pretrained model."
      ],
      "metadata": {
        "id": "3idcRJmwa0ss"
      }
    },
    {
      "cell_type": "code",
      "source": [
        "# 2x\n",
        "!gdown --id 1XFk9YZP9llTeporF-t_Au1dI-VhDQppG"
      ],
      "metadata": {
        "id": "eAjOsOhCbCXB"
      },
      "execution_count": null,
      "outputs": []
    },
    {
      "cell_type": "code",
      "source": [
        "# 4x\n",
        "!gdown --id 1btmNm4LkHVO9gjAaKKN9CXf5vP7h4hCy"
      ],
      "metadata": {
        "id": "wYaEoJq44nOH"
      },
      "execution_count": null,
      "outputs": []
    },
    {
      "cell_type": "code",
      "source": [
        "# 4x\n",
        "!gdown --id 1cJ0CqelTBxBVaWBxb6I3PjwlNr2DI3nM"
      ],
      "metadata": {
        "id": "CJYE15xKCGZ0"
      },
      "execution_count": null,
      "outputs": []
    },
    {
      "cell_type": "markdown",
      "source": [
        "Notice that this ignores the first and last file. Thus 5 input files means 3 are interpolated, yielding (3-1)*4+1 frames, i.e. 9. Why does it skip first and last frames?"
      ],
      "metadata": {
        "id": "nxlI53BVTEkL"
      }
    },
    {
      "cell_type": "code",
      "source": [
        "# use test directory as input, output to files\n",
        "!python ./interpolate.py --is_folder --input_video '/content/FLAVR/test/' --factor 4 --load_model ./FLAVR_4x.pth --save_files"
      ],
      "metadata": {
        "id": "gyQ2stCUMVPd"
      },
      "execution_count": null,
      "outputs": []
    },
    {
      "cell_type": "code",
      "source": [
        "!python ./interpolate.py --is_folder --input_video '/content/FLAVR/test/' --factor 2 --load_model ./FLAVR_2x.pth --save_files"
      ],
      "metadata": {
        "id": "vP_aFDw9P-9G"
      },
      "execution_count": null,
      "outputs": []
    },
    {
      "cell_type": "markdown",
      "source": [
        "Compress the output."
      ],
      "metadata": {
        "id": "J3__Y_vAVFCK"
      }
    },
    {
      "cell_type": "code",
      "source": [
        "zip -r test_4x.zip test_4x"
      ],
      "metadata": {
        "id": "oh_uYd9gUg89"
      },
      "execution_count": null,
      "outputs": []
    },
    {
      "cell_type": "markdown",
      "source": [
        "\n",
        "Optionally mount Drive for output."
      ],
      "metadata": {
        "id": "4edydmfoceHc"
      }
    },
    {
      "cell_type": "code",
      "source": [
        "import os\n",
        "from google.colab import drive\n",
        "drive.mount('/content/gdrive', force_remount=True)\n",
        "# %cd /content/gdrive/MyDrive\n",
        "# HOME='/content/gdrive/MyDrive'\n",
        "!nvidia-smi\n"
      ],
      "metadata": {
        "id": "HW68dBJc5Pyg"
      },
      "execution_count": null,
      "outputs": []
    },
    {
      "cell_type": "code",
      "source": [
        "# assuming this dir exists\n",
        "cp test_4x.zip /content/gdrive/colab_data/FLAVR/"
      ],
      "metadata": {
        "id": "_K6lJq_8UpQO"
      },
      "execution_count": null,
      "outputs": []
    }
  ]
}